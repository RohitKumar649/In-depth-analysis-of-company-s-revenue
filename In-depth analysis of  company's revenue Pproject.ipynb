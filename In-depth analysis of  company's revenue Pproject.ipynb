{
 "cells": [
  {
   "cell_type": "code",
   "execution_count": 1,
   "id": "9436d341",
   "metadata": {},
   "outputs": [],
   "source": [
    "import pandas as pd"
   ]
  },
  {
   "cell_type": "code",
   "execution_count": 2,
   "id": "b9305b8b",
   "metadata": {},
   "outputs": [],
   "source": [
    "df = pd.read_csv(r\"C:\\Users\\ADMIN\\Desktop\\Financials.csv\")"
   ]
  },
  {
   "cell_type": "code",
   "execution_count": 3,
   "id": "6ad00bc4",
   "metadata": {},
   "outputs": [
    {
     "data": {
      "text/html": [
       "<div>\n",
       "<style scoped>\n",
       "    .dataframe tbody tr th:only-of-type {\n",
       "        vertical-align: middle;\n",
       "    }\n",
       "\n",
       "    .dataframe tbody tr th {\n",
       "        vertical-align: top;\n",
       "    }\n",
       "\n",
       "    .dataframe thead th {\n",
       "        text-align: right;\n",
       "    }\n",
       "</style>\n",
       "<table border=\"1\" class=\"dataframe\">\n",
       "  <thead>\n",
       "    <tr style=\"text-align: right;\">\n",
       "      <th></th>\n",
       "      <th>Segment</th>\n",
       "      <th>Country</th>\n",
       "      <th>Product</th>\n",
       "      <th>Discount Band</th>\n",
       "      <th>Units Sold</th>\n",
       "      <th>Manufacturing Price</th>\n",
       "      <th>Sale Price</th>\n",
       "      <th>Gross Sales</th>\n",
       "      <th>Discounts</th>\n",
       "      <th>Sales</th>\n",
       "      <th>COGS</th>\n",
       "      <th>Profit</th>\n",
       "      <th>Date</th>\n",
       "      <th>Month Number</th>\n",
       "      <th>Month Name</th>\n",
       "      <th>Year</th>\n",
       "    </tr>\n",
       "  </thead>\n",
       "  <tbody>\n",
       "    <tr>\n",
       "      <th>0</th>\n",
       "      <td>Government</td>\n",
       "      <td>Canada</td>\n",
       "      <td>Carretera</td>\n",
       "      <td>None</td>\n",
       "      <td>$1,618.50</td>\n",
       "      <td>$3.00</td>\n",
       "      <td>$20.00</td>\n",
       "      <td>$32,370.00</td>\n",
       "      <td>$-</td>\n",
       "      <td>$32,370.00</td>\n",
       "      <td>$16,185.00</td>\n",
       "      <td>$16,185.00</td>\n",
       "      <td>01/01/2014</td>\n",
       "      <td>1</td>\n",
       "      <td>January</td>\n",
       "      <td>2014</td>\n",
       "    </tr>\n",
       "    <tr>\n",
       "      <th>1</th>\n",
       "      <td>Government</td>\n",
       "      <td>Germany</td>\n",
       "      <td>Carretera</td>\n",
       "      <td>None</td>\n",
       "      <td>$1,321.00</td>\n",
       "      <td>$3.00</td>\n",
       "      <td>$20.00</td>\n",
       "      <td>$26,420.00</td>\n",
       "      <td>$-</td>\n",
       "      <td>$26,420.00</td>\n",
       "      <td>$13,210.00</td>\n",
       "      <td>$13,210.00</td>\n",
       "      <td>01/01/2014</td>\n",
       "      <td>1</td>\n",
       "      <td>January</td>\n",
       "      <td>2014</td>\n",
       "    </tr>\n",
       "    <tr>\n",
       "      <th>2</th>\n",
       "      <td>Midmarket</td>\n",
       "      <td>France</td>\n",
       "      <td>Carretera</td>\n",
       "      <td>None</td>\n",
       "      <td>$2,178.00</td>\n",
       "      <td>$3.00</td>\n",
       "      <td>$15.00</td>\n",
       "      <td>$32,670.00</td>\n",
       "      <td>$-</td>\n",
       "      <td>$32,670.00</td>\n",
       "      <td>$21,780.00</td>\n",
       "      <td>$10,890.00</td>\n",
       "      <td>01/06/2014</td>\n",
       "      <td>6</td>\n",
       "      <td>June</td>\n",
       "      <td>2014</td>\n",
       "    </tr>\n",
       "    <tr>\n",
       "      <th>3</th>\n",
       "      <td>Midmarket</td>\n",
       "      <td>Germany</td>\n",
       "      <td>Carretera</td>\n",
       "      <td>None</td>\n",
       "      <td>$888.00</td>\n",
       "      <td>$3.00</td>\n",
       "      <td>$15.00</td>\n",
       "      <td>$13,320.00</td>\n",
       "      <td>$-</td>\n",
       "      <td>$13,320.00</td>\n",
       "      <td>$8,880.00</td>\n",
       "      <td>$4,440.00</td>\n",
       "      <td>01/06/2014</td>\n",
       "      <td>6</td>\n",
       "      <td>June</td>\n",
       "      <td>2014</td>\n",
       "    </tr>\n",
       "    <tr>\n",
       "      <th>4</th>\n",
       "      <td>Midmarket</td>\n",
       "      <td>Mexico</td>\n",
       "      <td>Carretera</td>\n",
       "      <td>None</td>\n",
       "      <td>$2,470.00</td>\n",
       "      <td>$3.00</td>\n",
       "      <td>$15.00</td>\n",
       "      <td>$37,050.00</td>\n",
       "      <td>$-</td>\n",
       "      <td>$37,050.00</td>\n",
       "      <td>$24,700.00</td>\n",
       "      <td>$12,350.00</td>\n",
       "      <td>01/06/2014</td>\n",
       "      <td>6</td>\n",
       "      <td>June</td>\n",
       "      <td>2014</td>\n",
       "    </tr>\n",
       "    <tr>\n",
       "      <th>...</th>\n",
       "      <td>...</td>\n",
       "      <td>...</td>\n",
       "      <td>...</td>\n",
       "      <td>...</td>\n",
       "      <td>...</td>\n",
       "      <td>...</td>\n",
       "      <td>...</td>\n",
       "      <td>...</td>\n",
       "      <td>...</td>\n",
       "      <td>...</td>\n",
       "      <td>...</td>\n",
       "      <td>...</td>\n",
       "      <td>...</td>\n",
       "      <td>...</td>\n",
       "      <td>...</td>\n",
       "      <td>...</td>\n",
       "    </tr>\n",
       "    <tr>\n",
       "      <th>695</th>\n",
       "      <td>Small Business</td>\n",
       "      <td>France</td>\n",
       "      <td>Amarilla</td>\n",
       "      <td>High</td>\n",
       "      <td>$2,475.00</td>\n",
       "      <td>$260.00</td>\n",
       "      <td>$300.00</td>\n",
       "      <td>$7,42,500.00</td>\n",
       "      <td>$1,11,375.00</td>\n",
       "      <td>$6,31,125.00</td>\n",
       "      <td>$6,18,750.00</td>\n",
       "      <td>$12,375.00</td>\n",
       "      <td>01/03/2014</td>\n",
       "      <td>3</td>\n",
       "      <td>March</td>\n",
       "      <td>2014</td>\n",
       "    </tr>\n",
       "    <tr>\n",
       "      <th>696</th>\n",
       "      <td>Small Business</td>\n",
       "      <td>Mexico</td>\n",
       "      <td>Amarilla</td>\n",
       "      <td>High</td>\n",
       "      <td>$546.00</td>\n",
       "      <td>$260.00</td>\n",
       "      <td>$300.00</td>\n",
       "      <td>$1,63,800.00</td>\n",
       "      <td>$24,570.00</td>\n",
       "      <td>$1,39,230.00</td>\n",
       "      <td>$1,36,500.00</td>\n",
       "      <td>$2,730.00</td>\n",
       "      <td>01/10/2014</td>\n",
       "      <td>10</td>\n",
       "      <td>October</td>\n",
       "      <td>2014</td>\n",
       "    </tr>\n",
       "    <tr>\n",
       "      <th>697</th>\n",
       "      <td>Government</td>\n",
       "      <td>Mexico</td>\n",
       "      <td>Montana</td>\n",
       "      <td>High</td>\n",
       "      <td>$1,368.00</td>\n",
       "      <td>$5.00</td>\n",
       "      <td>$7.00</td>\n",
       "      <td>$9,576.00</td>\n",
       "      <td>$1,436.40</td>\n",
       "      <td>$8,139.60</td>\n",
       "      <td>$6,840.00</td>\n",
       "      <td>$1,299.60</td>\n",
       "      <td>01/02/2014</td>\n",
       "      <td>2</td>\n",
       "      <td>February</td>\n",
       "      <td>2014</td>\n",
       "    </tr>\n",
       "    <tr>\n",
       "      <th>698</th>\n",
       "      <td>Government</td>\n",
       "      <td>Canada</td>\n",
       "      <td>Paseo</td>\n",
       "      <td>High</td>\n",
       "      <td>$723.00</td>\n",
       "      <td>$10.00</td>\n",
       "      <td>$7.00</td>\n",
       "      <td>$5,061.00</td>\n",
       "      <td>$759.15</td>\n",
       "      <td>$4,301.85</td>\n",
       "      <td>$3,615.00</td>\n",
       "      <td>$686.85</td>\n",
       "      <td>01/04/2014</td>\n",
       "      <td>4</td>\n",
       "      <td>April</td>\n",
       "      <td>2014</td>\n",
       "    </tr>\n",
       "    <tr>\n",
       "      <th>699</th>\n",
       "      <td>Channel Partners</td>\n",
       "      <td>United States of America</td>\n",
       "      <td>VTT</td>\n",
       "      <td>High</td>\n",
       "      <td>$1,806.00</td>\n",
       "      <td>$250.00</td>\n",
       "      <td>$12.00</td>\n",
       "      <td>$21,672.00</td>\n",
       "      <td>$3,250.80</td>\n",
       "      <td>$18,421.20</td>\n",
       "      <td>$5,418.00</td>\n",
       "      <td>$13,003.20</td>\n",
       "      <td>01/05/2014</td>\n",
       "      <td>5</td>\n",
       "      <td>May</td>\n",
       "      <td>2014</td>\n",
       "    </tr>\n",
       "  </tbody>\n",
       "</table>\n",
       "<p>700 rows × 16 columns</p>\n",
       "</div>"
      ],
      "text/plain": [
       "              Segment                   Country     Product   Discount Band   \\\n",
       "0          Government                    Canada   Carretera            None    \n",
       "1          Government                   Germany   Carretera            None    \n",
       "2           Midmarket                    France   Carretera            None    \n",
       "3           Midmarket                   Germany   Carretera            None    \n",
       "4           Midmarket                    Mexico   Carretera            None    \n",
       "..                ...                       ...          ...             ...   \n",
       "695    Small Business                    France    Amarilla            High    \n",
       "696    Small Business                    Mexico    Amarilla            High    \n",
       "697        Government                    Mexico     Montana            High    \n",
       "698        Government                    Canada       Paseo            High    \n",
       "699  Channel Partners  United States of America         VTT            High    \n",
       "\n",
       "     Units Sold   Manufacturing Price   Sale Price     Gross Sales   \\\n",
       "0     $1,618.50                 $3.00       $20.00      $32,370.00    \n",
       "1     $1,321.00                 $3.00       $20.00      $26,420.00    \n",
       "2     $2,178.00                 $3.00       $15.00      $32,670.00    \n",
       "3       $888.00                 $3.00       $15.00      $13,320.00    \n",
       "4     $2,470.00                 $3.00       $15.00      $37,050.00    \n",
       "..           ...                   ...          ...             ...   \n",
       "695   $2,475.00               $260.00      $300.00    $7,42,500.00    \n",
       "696     $546.00               $260.00      $300.00    $1,63,800.00    \n",
       "697   $1,368.00                 $5.00        $7.00       $9,576.00    \n",
       "698     $723.00                $10.00        $7.00       $5,061.00    \n",
       "699   $1,806.00               $250.00       $12.00      $21,672.00    \n",
       "\n",
       "         Discounts           Sales            COGS        Profit         Date  \\\n",
       "0             $-        $32,370.00      $16,185.00    $16,185.00   01/01/2014   \n",
       "1             $-        $26,420.00      $13,210.00    $13,210.00   01/01/2014   \n",
       "2             $-        $32,670.00      $21,780.00    $10,890.00   01/06/2014   \n",
       "3             $-        $13,320.00       $8,880.00     $4,440.00   01/06/2014   \n",
       "4             $-        $37,050.00      $24,700.00    $12,350.00   01/06/2014   \n",
       "..              ...             ...             ...           ...         ...   \n",
       "695   $1,11,375.00    $6,31,125.00    $6,18,750.00    $12,375.00   01/03/2014   \n",
       "696     $24,570.00    $1,39,230.00    $1,36,500.00     $2,730.00   01/10/2014   \n",
       "697      $1,436.40       $8,139.60       $6,840.00     $1,299.60   01/02/2014   \n",
       "698        $759.15       $4,301.85       $3,615.00       $686.85   01/04/2014   \n",
       "699      $3,250.80      $18,421.20       $5,418.00    $13,003.20   01/05/2014   \n",
       "\n",
       "     Month Number  Month Name   Year  \n",
       "0               1     January   2014  \n",
       "1               1     January   2014  \n",
       "2               6        June   2014  \n",
       "3               6        June   2014  \n",
       "4               6        June   2014  \n",
       "..            ...          ...   ...  \n",
       "695             3       March   2014  \n",
       "696            10     October   2014  \n",
       "697             2    February   2014  \n",
       "698             4       April   2014  \n",
       "699             5         May   2014  \n",
       "\n",
       "[700 rows x 16 columns]"
      ]
     },
     "execution_count": 3,
     "metadata": {},
     "output_type": "execute_result"
    }
   ],
   "source": [
    "df"
   ]
  },
  {
   "cell_type": "code",
   "execution_count": 4,
   "id": "54a37230",
   "metadata": {},
   "outputs": [
    {
     "data": {
      "text/plain": [
       "Segment                  0\n",
       "Country                  0\n",
       " Product                 0\n",
       " Discount Band           0\n",
       " Units Sold              0\n",
       " Manufacturing Price     0\n",
       " Sale Price              0\n",
       " Gross Sales             0\n",
       " Discounts               0\n",
       "  Sales                  0\n",
       " COGS                    0\n",
       " Profit                  0\n",
       "Date                     0\n",
       "Month Number             0\n",
       " Month Name              0\n",
       "Year                     0\n",
       "dtype: int64"
      ]
     },
     "execution_count": 4,
     "metadata": {},
     "output_type": "execute_result"
    }
   ],
   "source": [
    "df.isnull().sum()"
   ]
  },
  {
   "cell_type": "markdown",
   "id": "4703862d",
   "metadata": {},
   "source": [
    "There is no null value present in our dataset but we can see that there is a error in column names"
   ]
  },
  {
   "cell_type": "code",
   "execution_count": 5,
   "id": "bd152e9c",
   "metadata": {},
   "outputs": [
    {
     "data": {
      "text/plain": [
       "10"
      ]
     },
     "execution_count": 5,
     "metadata": {},
     "output_type": "execute_result"
    }
   ],
   "source": [
    "len('Units Sold')"
   ]
  },
  {
   "cell_type": "markdown",
   "id": "5d62464e",
   "metadata": {},
   "source": [
    "Print Column Names with Their Lengths"
   ]
  },
  {
   "cell_type": "code",
   "execution_count": 6,
   "id": "20f0fffb",
   "metadata": {},
   "outputs": [
    {
     "name": "stdout",
     "output_type": "stream",
     "text": [
      "'Segment' Length: 7\n",
      "'Country' Length: 7\n",
      "' Product ' Length: 9\n",
      "' Discount Band ' Length: 15\n",
      "' Units Sold ' Length: 12\n",
      "' Manufacturing Price ' Length: 21\n",
      "' Sale Price ' Length: 12\n",
      "' Gross Sales ' Length: 13\n",
      "' Discounts ' Length: 11\n",
      "'  Sales ' Length: 8\n",
      "' COGS ' Length: 6\n",
      "' Profit ' Length: 8\n",
      "'Date' Length: 4\n",
      "'Month Number' Length: 12\n",
      "' Month Name ' Length: 12\n",
      "'Year' Length: 4\n"
     ]
    }
   ],
   "source": [
    "# This helps you spot leading/trailing spaces.\n",
    "for col in df.columns:\n",
    "    print(f\"'{col}' Length: {len(col)}\")"
   ]
  },
  {
   "cell_type": "markdown",
   "id": "46db1918",
   "metadata": {},
   "source": [
    "Check for Hidden Spaces Using repr()"
   ]
  },
  {
   "cell_type": "code",
   "execution_count": 7,
   "id": "1ecbaeaa",
   "metadata": {},
   "outputs": [
    {
     "name": "stdout",
     "output_type": "stream",
     "text": [
      "[\"'Segment'\", \"'Country'\", \"' Product '\", \"' Discount Band '\", \"' Units Sold '\", \"' Manufacturing Price '\", \"' Sale Price '\", \"' Gross Sales '\", \"' Discounts '\", \"'  Sales '\", \"' COGS '\", \"' Profit '\", \"'Date'\", \"'Month Number'\", \"' Month Name '\", \"'Year'\"]\n"
     ]
    }
   ],
   "source": [
    "# repr() shows the exact formatting of column names.\n",
    "print([repr(col) for col in df.columns])"
   ]
  },
  {
   "cell_type": "markdown",
   "id": "2f45c5de",
   "metadata": {},
   "source": [
    "Find Columns That Contain Spaces"
   ]
  },
  {
   "cell_type": "code",
   "execution_count": 8,
   "id": "41f551ac",
   "metadata": {},
   "outputs": [
    {
     "name": "stdout",
     "output_type": "stream",
     "text": [
      "Column with spaces: ' Units Sold '\n"
     ]
    }
   ],
   "source": [
    "# If you suspect spaces inside column names (e.g., 'Units Sold' with double spaces):\n",
    "for col in df.columns:\n",
    "    if \"Units Sold\" in col:\n",
    "        print(f\"Column with spaces: '{col}'\")"
   ]
  },
  {
   "cell_type": "markdown",
   "id": "0d11cfe6",
   "metadata": {},
   "source": [
    " Rename Columns to Remove Spaces"
   ]
  },
  {
   "cell_type": "code",
   "execution_count": 9,
   "id": "2c6dc039",
   "metadata": {},
   "outputs": [],
   "source": [
    "# If columns contain unwanted spaces, replace them with underscores (_) or remove them:\n",
    "#df.columns = df.columns.str.replace(\" \", \"_\")  # Replace spaces with underscores\n",
    "# OR\n",
    "#df.columns = df.columns.str.replace(\"_\", \"\")  # Remove spaces completely"
   ]
  },
  {
   "cell_type": "code",
   "execution_count": 10,
   "id": "cde30bae",
   "metadata": {},
   "outputs": [],
   "source": [
    "# we can use strip funcation to removing leading whitespaces\n",
    "df.columns = df.columns.str.strip()"
   ]
  },
  {
   "cell_type": "code",
   "execution_count": 11,
   "id": "ca545351",
   "metadata": {},
   "outputs": [
    {
     "name": "stdout",
     "output_type": "stream",
     "text": [
      "'Segment' Length: 7\n",
      "'Country' Length: 7\n",
      "'Product' Length: 7\n",
      "'Discount Band' Length: 13\n",
      "'Units Sold' Length: 10\n",
      "'Manufacturing Price' Length: 19\n",
      "'Sale Price' Length: 10\n",
      "'Gross Sales' Length: 11\n",
      "'Discounts' Length: 9\n",
      "'Sales' Length: 5\n",
      "'COGS' Length: 4\n",
      "'Profit' Length: 6\n",
      "'Date' Length: 4\n",
      "'Month Number' Length: 12\n",
      "'Month Name' Length: 10\n",
      "'Year' Length: 4\n"
     ]
    }
   ],
   "source": [
    "for col in df.columns:\n",
    "    print(f\"'{col}' Length: {len(col)}\")"
   ]
  },
  {
   "cell_type": "code",
   "execution_count": 12,
   "id": "d7f19cda",
   "metadata": {},
   "outputs": [
    {
     "data": {
      "text/plain": [
       "Segment                0\n",
       "Country                0\n",
       "Product                0\n",
       "Discount Band          0\n",
       "Units Sold             0\n",
       "Manufacturing Price    0\n",
       "Sale Price             0\n",
       "Gross Sales            0\n",
       "Discounts              0\n",
       "Sales                  0\n",
       "COGS                   0\n",
       "Profit                 0\n",
       "Date                   0\n",
       "Month Number           0\n",
       "Month Name             0\n",
       "Year                   0\n",
       "dtype: int64"
      ]
     },
     "execution_count": 12,
     "metadata": {},
     "output_type": "execute_result"
    }
   ],
   "source": [
    "# now we can check \n",
    "df.isnull().sum()"
   ]
  },
  {
   "cell_type": "code",
   "execution_count": 13,
   "id": "c324e6ba",
   "metadata": {},
   "outputs": [
    {
     "data": {
      "text/plain": [
       "Segment                object\n",
       "Country                object\n",
       "Product                object\n",
       "Discount Band          object\n",
       "Units Sold             object\n",
       "Manufacturing Price    object\n",
       "Sale Price             object\n",
       "Gross Sales            object\n",
       "Discounts              object\n",
       "Sales                  object\n",
       "COGS                   object\n",
       "Profit                 object\n",
       "Date                   object\n",
       "Month Number            int64\n",
       "Month Name             object\n",
       "Year                    int64\n",
       "dtype: object"
      ]
     },
     "execution_count": 13,
     "metadata": {},
     "output_type": "execute_result"
    }
   ],
   "source": [
    "# Now, the data types of the columns will be checked with dtypes\n",
    "df.dtypes"
   ]
  },
  {
   "cell_type": "markdown",
   "id": "11212abd",
   "metadata": {},
   "source": [
    "Note, Columns like \"sold\" contain integer values, but due to the presence of the dollar sign ($), they are recognized as an object data type. Therefore, we need to convert them into an integer data type."
   ]
  },
  {
   "cell_type": "code",
   "execution_count": 14,
   "id": "3e3d2f82",
   "metadata": {},
   "outputs": [],
   "source": [
    "# We need to remove the dollar sign ($) from integer columns. \n",
    " #  This can be done using the replace method.\n",
    "dollar = ['Units Sold','Manufacturing Price','Sale Price','Gross Sales','Discounts','Sales','COGS','Profit']\n",
    "for columns in dollar :\n",
    "   df[columns] = df[columns].str.replace('$','',regex=False)"
   ]
  },
  {
   "cell_type": "code",
   "execution_count": 15,
   "id": "2df73f79",
   "metadata": {},
   "outputs": [
    {
     "data": {
      "text/html": [
       "<div>\n",
       "<style scoped>\n",
       "    .dataframe tbody tr th:only-of-type {\n",
       "        vertical-align: middle;\n",
       "    }\n",
       "\n",
       "    .dataframe tbody tr th {\n",
       "        vertical-align: top;\n",
       "    }\n",
       "\n",
       "    .dataframe thead th {\n",
       "        text-align: right;\n",
       "    }\n",
       "</style>\n",
       "<table border=\"1\" class=\"dataframe\">\n",
       "  <thead>\n",
       "    <tr style=\"text-align: right;\">\n",
       "      <th></th>\n",
       "      <th>Segment</th>\n",
       "      <th>Country</th>\n",
       "      <th>Product</th>\n",
       "      <th>Discount Band</th>\n",
       "      <th>Units Sold</th>\n",
       "      <th>Manufacturing Price</th>\n",
       "      <th>Sale Price</th>\n",
       "      <th>Gross Sales</th>\n",
       "      <th>Discounts</th>\n",
       "      <th>Sales</th>\n",
       "      <th>COGS</th>\n",
       "      <th>Profit</th>\n",
       "      <th>Date</th>\n",
       "      <th>Month Number</th>\n",
       "      <th>Month Name</th>\n",
       "      <th>Year</th>\n",
       "    </tr>\n",
       "  </thead>\n",
       "  <tbody>\n",
       "    <tr>\n",
       "      <th>0</th>\n",
       "      <td>Government</td>\n",
       "      <td>Canada</td>\n",
       "      <td>Carretera</td>\n",
       "      <td>None</td>\n",
       "      <td>1,618.50</td>\n",
       "      <td>3.00</td>\n",
       "      <td>20.00</td>\n",
       "      <td>32,370.00</td>\n",
       "      <td>-</td>\n",
       "      <td>32,370.00</td>\n",
       "      <td>16,185.00</td>\n",
       "      <td>16,185.00</td>\n",
       "      <td>01/01/2014</td>\n",
       "      <td>1</td>\n",
       "      <td>January</td>\n",
       "      <td>2014</td>\n",
       "    </tr>\n",
       "    <tr>\n",
       "      <th>1</th>\n",
       "      <td>Government</td>\n",
       "      <td>Germany</td>\n",
       "      <td>Carretera</td>\n",
       "      <td>None</td>\n",
       "      <td>1,321.00</td>\n",
       "      <td>3.00</td>\n",
       "      <td>20.00</td>\n",
       "      <td>26,420.00</td>\n",
       "      <td>-</td>\n",
       "      <td>26,420.00</td>\n",
       "      <td>13,210.00</td>\n",
       "      <td>13,210.00</td>\n",
       "      <td>01/01/2014</td>\n",
       "      <td>1</td>\n",
       "      <td>January</td>\n",
       "      <td>2014</td>\n",
       "    </tr>\n",
       "    <tr>\n",
       "      <th>2</th>\n",
       "      <td>Midmarket</td>\n",
       "      <td>France</td>\n",
       "      <td>Carretera</td>\n",
       "      <td>None</td>\n",
       "      <td>2,178.00</td>\n",
       "      <td>3.00</td>\n",
       "      <td>15.00</td>\n",
       "      <td>32,670.00</td>\n",
       "      <td>-</td>\n",
       "      <td>32,670.00</td>\n",
       "      <td>21,780.00</td>\n",
       "      <td>10,890.00</td>\n",
       "      <td>01/06/2014</td>\n",
       "      <td>6</td>\n",
       "      <td>June</td>\n",
       "      <td>2014</td>\n",
       "    </tr>\n",
       "    <tr>\n",
       "      <th>3</th>\n",
       "      <td>Midmarket</td>\n",
       "      <td>Germany</td>\n",
       "      <td>Carretera</td>\n",
       "      <td>None</td>\n",
       "      <td>888.00</td>\n",
       "      <td>3.00</td>\n",
       "      <td>15.00</td>\n",
       "      <td>13,320.00</td>\n",
       "      <td>-</td>\n",
       "      <td>13,320.00</td>\n",
       "      <td>8,880.00</td>\n",
       "      <td>4,440.00</td>\n",
       "      <td>01/06/2014</td>\n",
       "      <td>6</td>\n",
       "      <td>June</td>\n",
       "      <td>2014</td>\n",
       "    </tr>\n",
       "    <tr>\n",
       "      <th>4</th>\n",
       "      <td>Midmarket</td>\n",
       "      <td>Mexico</td>\n",
       "      <td>Carretera</td>\n",
       "      <td>None</td>\n",
       "      <td>2,470.00</td>\n",
       "      <td>3.00</td>\n",
       "      <td>15.00</td>\n",
       "      <td>37,050.00</td>\n",
       "      <td>-</td>\n",
       "      <td>37,050.00</td>\n",
       "      <td>24,700.00</td>\n",
       "      <td>12,350.00</td>\n",
       "      <td>01/06/2014</td>\n",
       "      <td>6</td>\n",
       "      <td>June</td>\n",
       "      <td>2014</td>\n",
       "    </tr>\n",
       "  </tbody>\n",
       "</table>\n",
       "</div>"
      ],
      "text/plain": [
       "      Segment  Country      Product Discount Band  Units Sold  \\\n",
       "0  Government   Canada   Carretera          None    1,618.50    \n",
       "1  Government  Germany   Carretera          None    1,321.00    \n",
       "2   Midmarket   France   Carretera          None    2,178.00    \n",
       "3   Midmarket  Germany   Carretera          None      888.00    \n",
       "4   Midmarket   Mexico   Carretera          None    2,470.00    \n",
       "\n",
       "  Manufacturing Price Sale Price  Gross Sales Discounts        Sales  \\\n",
       "0               3.00      20.00    32,370.00       -      32,370.00    \n",
       "1               3.00      20.00    26,420.00       -      26,420.00    \n",
       "2               3.00      15.00    32,670.00       -      32,670.00    \n",
       "3               3.00      15.00    13,320.00       -      13,320.00    \n",
       "4               3.00      15.00    37,050.00       -      37,050.00    \n",
       "\n",
       "          COGS       Profit        Date  Month Number Month Name  Year  \n",
       "0   16,185.00    16,185.00   01/01/2014             1   January   2014  \n",
       "1   13,210.00    13,210.00   01/01/2014             1   January   2014  \n",
       "2   21,780.00    10,890.00   01/06/2014             6      June   2014  \n",
       "3    8,880.00     4,440.00   01/06/2014             6      June   2014  \n",
       "4   24,700.00    12,350.00   01/06/2014             6      June   2014  "
      ]
     },
     "execution_count": 15,
     "metadata": {},
     "output_type": "execute_result"
    }
   ],
   "source": [
    "# checking table\n",
    "df.head()"
   ]
  },
  {
   "cell_type": "code",
   "execution_count": 16,
   "id": "d893c861",
   "metadata": {},
   "outputs": [],
   "source": [
    "# Now, we can see DESS (-) in the Discounts column. Therefore, we will replace DESS (-) with 0.\n",
    "df['Discounts'] = df['Discounts'].str.replace('-','0',regex=False)"
   ]
  },
  {
   "cell_type": "code",
   "execution_count": 17,
   "id": "f7195cf6",
   "metadata": {},
   "outputs": [],
   "source": [
    "# Now, we will remove commas from the columns because they are not recognized in float conversion.\n",
    "for columns in dollar:\n",
    "    df[columns] = df[columns].replace(',','',regex=True)"
   ]
  },
  {
   "cell_type": "code",
   "execution_count": 18,
   "id": "7f9439c6",
   "metadata": {},
   "outputs": [
    {
     "data": {
      "text/html": [
       "<div>\n",
       "<style scoped>\n",
       "    .dataframe tbody tr th:only-of-type {\n",
       "        vertical-align: middle;\n",
       "    }\n",
       "\n",
       "    .dataframe tbody tr th {\n",
       "        vertical-align: top;\n",
       "    }\n",
       "\n",
       "    .dataframe thead th {\n",
       "        text-align: right;\n",
       "    }\n",
       "</style>\n",
       "<table border=\"1\" class=\"dataframe\">\n",
       "  <thead>\n",
       "    <tr style=\"text-align: right;\">\n",
       "      <th></th>\n",
       "      <th>Segment</th>\n",
       "      <th>Country</th>\n",
       "      <th>Product</th>\n",
       "      <th>Discount Band</th>\n",
       "      <th>Units Sold</th>\n",
       "      <th>Manufacturing Price</th>\n",
       "      <th>Sale Price</th>\n",
       "      <th>Gross Sales</th>\n",
       "      <th>Discounts</th>\n",
       "      <th>Sales</th>\n",
       "      <th>COGS</th>\n",
       "      <th>Profit</th>\n",
       "      <th>Date</th>\n",
       "      <th>Month Number</th>\n",
       "      <th>Month Name</th>\n",
       "      <th>Year</th>\n",
       "    </tr>\n",
       "  </thead>\n",
       "  <tbody>\n",
       "    <tr>\n",
       "      <th>0</th>\n",
       "      <td>Government</td>\n",
       "      <td>Canada</td>\n",
       "      <td>Carretera</td>\n",
       "      <td>None</td>\n",
       "      <td>1618.50</td>\n",
       "      <td>3.00</td>\n",
       "      <td>20.00</td>\n",
       "      <td>32370.00</td>\n",
       "      <td>0</td>\n",
       "      <td>32370.00</td>\n",
       "      <td>16185.00</td>\n",
       "      <td>16185.00</td>\n",
       "      <td>01/01/2014</td>\n",
       "      <td>1</td>\n",
       "      <td>January</td>\n",
       "      <td>2014</td>\n",
       "    </tr>\n",
       "    <tr>\n",
       "      <th>1</th>\n",
       "      <td>Government</td>\n",
       "      <td>Germany</td>\n",
       "      <td>Carretera</td>\n",
       "      <td>None</td>\n",
       "      <td>1321.00</td>\n",
       "      <td>3.00</td>\n",
       "      <td>20.00</td>\n",
       "      <td>26420.00</td>\n",
       "      <td>0</td>\n",
       "      <td>26420.00</td>\n",
       "      <td>13210.00</td>\n",
       "      <td>13210.00</td>\n",
       "      <td>01/01/2014</td>\n",
       "      <td>1</td>\n",
       "      <td>January</td>\n",
       "      <td>2014</td>\n",
       "    </tr>\n",
       "    <tr>\n",
       "      <th>2</th>\n",
       "      <td>Midmarket</td>\n",
       "      <td>France</td>\n",
       "      <td>Carretera</td>\n",
       "      <td>None</td>\n",
       "      <td>2178.00</td>\n",
       "      <td>3.00</td>\n",
       "      <td>15.00</td>\n",
       "      <td>32670.00</td>\n",
       "      <td>0</td>\n",
       "      <td>32670.00</td>\n",
       "      <td>21780.00</td>\n",
       "      <td>10890.00</td>\n",
       "      <td>01/06/2014</td>\n",
       "      <td>6</td>\n",
       "      <td>June</td>\n",
       "      <td>2014</td>\n",
       "    </tr>\n",
       "    <tr>\n",
       "      <th>3</th>\n",
       "      <td>Midmarket</td>\n",
       "      <td>Germany</td>\n",
       "      <td>Carretera</td>\n",
       "      <td>None</td>\n",
       "      <td>888.00</td>\n",
       "      <td>3.00</td>\n",
       "      <td>15.00</td>\n",
       "      <td>13320.00</td>\n",
       "      <td>0</td>\n",
       "      <td>13320.00</td>\n",
       "      <td>8880.00</td>\n",
       "      <td>4440.00</td>\n",
       "      <td>01/06/2014</td>\n",
       "      <td>6</td>\n",
       "      <td>June</td>\n",
       "      <td>2014</td>\n",
       "    </tr>\n",
       "    <tr>\n",
       "      <th>4</th>\n",
       "      <td>Midmarket</td>\n",
       "      <td>Mexico</td>\n",
       "      <td>Carretera</td>\n",
       "      <td>None</td>\n",
       "      <td>2470.00</td>\n",
       "      <td>3.00</td>\n",
       "      <td>15.00</td>\n",
       "      <td>37050.00</td>\n",
       "      <td>0</td>\n",
       "      <td>37050.00</td>\n",
       "      <td>24700.00</td>\n",
       "      <td>12350.00</td>\n",
       "      <td>01/06/2014</td>\n",
       "      <td>6</td>\n",
       "      <td>June</td>\n",
       "      <td>2014</td>\n",
       "    </tr>\n",
       "  </tbody>\n",
       "</table>\n",
       "</div>"
      ],
      "text/plain": [
       "      Segment  Country      Product Discount Band Units Sold  \\\n",
       "0  Government   Canada   Carretera          None    1618.50    \n",
       "1  Government  Germany   Carretera          None    1321.00    \n",
       "2   Midmarket   France   Carretera          None    2178.00    \n",
       "3   Midmarket  Germany   Carretera          None     888.00    \n",
       "4   Midmarket   Mexico   Carretera          None    2470.00    \n",
       "\n",
       "  Manufacturing Price Sale Price Gross Sales Discounts       Sales  \\\n",
       "0               3.00      20.00    32370.00       0      32370.00    \n",
       "1               3.00      20.00    26420.00       0      26420.00    \n",
       "2               3.00      15.00    32670.00       0      32670.00    \n",
       "3               3.00      15.00    13320.00       0      13320.00    \n",
       "4               3.00      15.00    37050.00       0      37050.00    \n",
       "\n",
       "         COGS      Profit        Date  Month Number Month Name  Year  \n",
       "0   16185.00    16185.00   01/01/2014             1   January   2014  \n",
       "1   13210.00    13210.00   01/01/2014             1   January   2014  \n",
       "2   21780.00    10890.00   01/06/2014             6      June   2014  \n",
       "3    8880.00     4440.00   01/06/2014             6      June   2014  \n",
       "4   24700.00    12350.00   01/06/2014             6      June   2014  "
      ]
     },
     "execution_count": 18,
     "metadata": {},
     "output_type": "execute_result"
    }
   ],
   "source": [
    "df.head()"
   ]
  },
  {
   "cell_type": "code",
   "execution_count": 19,
   "id": "cbc2f571",
   "metadata": {},
   "outputs": [],
   "source": [
    "Col = ['Units Sold','Manufacturing Price','Sale Price','Gross Sales','Discounts','Sales','COGS']"
   ]
  },
  {
   "cell_type": "code",
   "execution_count": 20,
   "id": "f4dcc581",
   "metadata": {},
   "outputs": [],
   "source": [
    "# Convert columns in the 'dollar' list to numeric to float data type\n",
    "# 'errors=\"coerce\"' ensures that invalid values are replaced with NaN instead of causing an error\n",
    "# .astype(float) explicitly converts the column data type to float.\n",
    "for columns in Col :\n",
    "      df[columns] = pd.to_numeric(df[columns], errors='coerce').astype(float)"
   ]
  },
  {
   "cell_type": "code",
   "execution_count": 21,
   "id": "738e758b",
   "metadata": {},
   "outputs": [
    {
     "data": {
      "text/plain": [
       "Segment                 object\n",
       "Country                 object\n",
       "Product                 object\n",
       "Discount Band           object\n",
       "Units Sold             float64\n",
       "Manufacturing Price    float64\n",
       "Sale Price             float64\n",
       "Gross Sales            float64\n",
       "Discounts              float64\n",
       "Sales                  float64\n",
       "COGS                   float64\n",
       "Profit                  object\n",
       "Date                    object\n",
       "Month Number             int64\n",
       "Month Name              object\n",
       "Year                     int64\n",
       "dtype: object"
      ]
     },
     "execution_count": 21,
     "metadata": {},
     "output_type": "execute_result"
    }
   ],
   "source": [
    "df.dtypes"
   ]
  },
  {
   "cell_type": "markdown",
   "id": "6e0cafb1",
   "metadata": {},
   "source": [
    "Cleaning and changing data type of  Profit column"
   ]
  },
  {
   "cell_type": "code",
   "execution_count": 22,
   "id": "9695e51e",
   "metadata": {},
   "outputs": [],
   "source": [
    "#  Remove leading/trailing spaces\n",
    "df['Profit']=df['Profit'].str.strip()"
   ]
  },
  {
   "cell_type": "code",
   "execution_count": 23,
   "id": "9ce0f47d",
   "metadata": {},
   "outputs": [
    {
     "data": {
      "text/plain": [
       "5"
      ]
     },
     "execution_count": 23,
     "metadata": {},
     "output_type": "execute_result"
    }
   ],
   "source": [
    "(df['Profit']=='-').sum()"
   ]
  },
  {
   "cell_type": "code",
   "execution_count": 24,
   "id": "cb5d7d8f",
   "metadata": {},
   "outputs": [],
   "source": [
    "#  we will replace DESS (-) with 0.\n",
    "df['Profit'] = df['Profit'].str.replace('-','0',regex=False)"
   ]
  },
  {
   "cell_type": "code",
   "execution_count": 25,
   "id": "08642338",
   "metadata": {},
   "outputs": [],
   "source": [
    "# Remove unwanted characters\n",
    "df['Profit']=df['Profit'].replace(r'[()]','',regex = True)"
   ]
  },
  {
   "cell_type": "code",
   "execution_count": 26,
   "id": "1c535037",
   "metadata": {},
   "outputs": [],
   "source": [
    "# changing datatype into float\n",
    "df['Profit'] = df['Profit'].astype(float)"
   ]
  },
  {
   "cell_type": "code",
   "execution_count": 27,
   "id": "a0c12a4e",
   "metadata": {},
   "outputs": [
    {
     "data": {
      "text/plain": [
       "Segment                 object\n",
       "Country                 object\n",
       "Product                 object\n",
       "Discount Band           object\n",
       "Units Sold             float64\n",
       "Manufacturing Price    float64\n",
       "Sale Price             float64\n",
       "Gross Sales            float64\n",
       "Discounts              float64\n",
       "Sales                  float64\n",
       "COGS                   float64\n",
       "Profit                 float64\n",
       "Date                    object\n",
       "Month Number             int64\n",
       "Month Name              object\n",
       "Year                     int64\n",
       "dtype: object"
      ]
     },
     "execution_count": 27,
     "metadata": {},
     "output_type": "execute_result"
    }
   ],
   "source": [
    "df.dtypes"
   ]
  },
  {
   "cell_type": "markdown",
   "id": "62c35400",
   "metadata": {},
   "source": [
    "We can see that now all the columns which seems like interger now they are in flot datatype"
   ]
  },
  {
   "cell_type": "markdown",
   "id": "4bb41649",
   "metadata": {},
   "source": [
    "But columns like Date and year not datatype as Date so we need to convert"
   ]
  },
  {
   "cell_type": "code",
   "execution_count": 28,
   "id": "f531e5a7",
   "metadata": {},
   "outputs": [],
   "source": [
    "df['Data']=pd.to_datetime(df['Date'],errors='coerce')"
   ]
  },
  {
   "cell_type": "code",
   "execution_count": 29,
   "id": "2bd75905",
   "metadata": {},
   "outputs": [
    {
     "data": {
      "text/plain": [
       "Segment                        object\n",
       "Country                        object\n",
       "Product                        object\n",
       "Discount Band                  object\n",
       "Units Sold                    float64\n",
       "Manufacturing Price           float64\n",
       "Sale Price                    float64\n",
       "Gross Sales                   float64\n",
       "Discounts                     float64\n",
       "Sales                         float64\n",
       "COGS                          float64\n",
       "Profit                        float64\n",
       "Date                           object\n",
       "Month Number                    int64\n",
       "Month Name                     object\n",
       "Year                            int64\n",
       "Data                   datetime64[ns]\n",
       "dtype: object"
      ]
     },
     "execution_count": 29,
     "metadata": {},
     "output_type": "execute_result"
    }
   ],
   "source": [
    "df.dtypes"
   ]
  },
  {
   "cell_type": "markdown",
   "id": "076ce802",
   "metadata": {},
   "source": [
    "We don't need year, month number, month name column because we can get these values from Data column so we can drop it"
   ]
  },
  {
   "cell_type": "code",
   "execution_count": 30,
   "id": "ddd7f452",
   "metadata": {},
   "outputs": [],
   "source": [
    "df=df.drop(['Month Name','Month Name','Year'],axis=1)"
   ]
  },
  {
   "cell_type": "code",
   "execution_count": 31,
   "id": "ac7a7902",
   "metadata": {},
   "outputs": [
    {
     "data": {
      "text/plain": [
       "Segment                        object\n",
       "Country                        object\n",
       "Product                        object\n",
       "Discount Band                  object\n",
       "Units Sold                    float64\n",
       "Manufacturing Price           float64\n",
       "Sale Price                    float64\n",
       "Gross Sales                   float64\n",
       "Discounts                     float64\n",
       "Sales                         float64\n",
       "COGS                          float64\n",
       "Profit                        float64\n",
       "Date                           object\n",
       "Month Number                    int64\n",
       "Data                   datetime64[ns]\n",
       "dtype: object"
      ]
     },
     "execution_count": 31,
     "metadata": {},
     "output_type": "execute_result"
    }
   ],
   "source": [
    "df.dtypes"
   ]
  },
  {
   "cell_type": "markdown",
   "id": "fc438b83",
   "metadata": {},
   "source": [
    "Changing name of Product"
   ]
  },
  {
   "cell_type": "code",
   "execution_count": 32,
   "id": "a27a273e",
   "metadata": {},
   "outputs": [
    {
     "data": {
      "text/plain": [
       "array([' Carretera ', ' Montana ', ' Paseo ', ' Velo ', ' VTT ',\n",
       "       ' Amarilla '], dtype=object)"
      ]
     },
     "execution_count": 32,
     "metadata": {},
     "output_type": "execute_result"
    }
   ],
   "source": [
    "df['Product'].unique()"
   ]
  },
  {
   "cell_type": "code",
   "execution_count": 33,
   "id": "5ad8a4c9",
   "metadata": {},
   "outputs": [
    {
     "name": "stdout",
     "output_type": "stream",
     "text": [
      "0             Road Bike\n",
      "1             Road Bike\n",
      "2             Road Bike\n",
      "3             Road Bike\n",
      "4             Road Bike\n",
      "             ...       \n",
      "695         Yellow Bike\n",
      "696         Yellow Bike\n",
      "697       Mountain Bike\n",
      "698        Touring Bike\n",
      "699    All-Terrain Bike\n",
      "Name: Product, Length: 700, dtype: object\n"
     ]
    }
   ],
   "source": [
    "# Define renaming function\n",
    "def rename_product(name):\n",
    "    name = name.strip()  # Remove extra spaces\n",
    "    mapping = {\n",
    "        'Carretera': 'Road Bike',\n",
    "        'Montana': 'Mountain Bike',\n",
    "        'Paseo': 'Touring Bike',\n",
    "        'Velo': 'Speed Bike',\n",
    "        'VTT': 'All-Terrain Bike',\n",
    "        'Amarilla': 'Yellow Bike'\n",
    "    }\n",
    "    return mapping.get(name, name)  # Return new name if found, else keep original\n",
    "\n",
    "# Apply function\n",
    "df['Product'] = df['Product'].apply(rename_product)\n",
    "\n",
    "print(df['Product'])"
   ]
  },
  {
   "cell_type": "markdown",
   "id": "b2417177",
   "metadata": {},
   "source": [
    "we done with all the cleaning methods and now data is cleaned and organised in proper format. Now we can go for the Data analysis and visualization"
   ]
  },
  {
   "cell_type": "code",
   "execution_count": 34,
   "id": "26d393f7",
   "metadata": {},
   "outputs": [
    {
     "data": {
      "text/html": [
       "<div>\n",
       "<style scoped>\n",
       "    .dataframe tbody tr th:only-of-type {\n",
       "        vertical-align: middle;\n",
       "    }\n",
       "\n",
       "    .dataframe tbody tr th {\n",
       "        vertical-align: top;\n",
       "    }\n",
       "\n",
       "    .dataframe thead th {\n",
       "        text-align: right;\n",
       "    }\n",
       "</style>\n",
       "<table border=\"1\" class=\"dataframe\">\n",
       "  <thead>\n",
       "    <tr style=\"text-align: right;\">\n",
       "      <th></th>\n",
       "      <th>Segment</th>\n",
       "      <th>Country</th>\n",
       "      <th>Product</th>\n",
       "      <th>Discount Band</th>\n",
       "      <th>Units Sold</th>\n",
       "      <th>Manufacturing Price</th>\n",
       "      <th>Sale Price</th>\n",
       "      <th>Gross Sales</th>\n",
       "      <th>Discounts</th>\n",
       "      <th>Sales</th>\n",
       "      <th>COGS</th>\n",
       "      <th>Profit</th>\n",
       "      <th>Date</th>\n",
       "      <th>Month Number</th>\n",
       "      <th>Data</th>\n",
       "    </tr>\n",
       "  </thead>\n",
       "  <tbody>\n",
       "    <tr>\n",
       "      <th>0</th>\n",
       "      <td>Government</td>\n",
       "      <td>Canada</td>\n",
       "      <td>Road Bike</td>\n",
       "      <td>None</td>\n",
       "      <td>1618.5</td>\n",
       "      <td>3.0</td>\n",
       "      <td>20.0</td>\n",
       "      <td>32370.0</td>\n",
       "      <td>0.0</td>\n",
       "      <td>32370.0</td>\n",
       "      <td>16185.0</td>\n",
       "      <td>16185.0</td>\n",
       "      <td>01/01/2014</td>\n",
       "      <td>1</td>\n",
       "      <td>2014-01-01</td>\n",
       "    </tr>\n",
       "    <tr>\n",
       "      <th>1</th>\n",
       "      <td>Government</td>\n",
       "      <td>Germany</td>\n",
       "      <td>Road Bike</td>\n",
       "      <td>None</td>\n",
       "      <td>1321.0</td>\n",
       "      <td>3.0</td>\n",
       "      <td>20.0</td>\n",
       "      <td>26420.0</td>\n",
       "      <td>0.0</td>\n",
       "      <td>26420.0</td>\n",
       "      <td>13210.0</td>\n",
       "      <td>13210.0</td>\n",
       "      <td>01/01/2014</td>\n",
       "      <td>1</td>\n",
       "      <td>2014-01-01</td>\n",
       "    </tr>\n",
       "    <tr>\n",
       "      <th>2</th>\n",
       "      <td>Midmarket</td>\n",
       "      <td>France</td>\n",
       "      <td>Road Bike</td>\n",
       "      <td>None</td>\n",
       "      <td>2178.0</td>\n",
       "      <td>3.0</td>\n",
       "      <td>15.0</td>\n",
       "      <td>32670.0</td>\n",
       "      <td>0.0</td>\n",
       "      <td>32670.0</td>\n",
       "      <td>21780.0</td>\n",
       "      <td>10890.0</td>\n",
       "      <td>01/06/2014</td>\n",
       "      <td>6</td>\n",
       "      <td>2014-01-06</td>\n",
       "    </tr>\n",
       "    <tr>\n",
       "      <th>3</th>\n",
       "      <td>Midmarket</td>\n",
       "      <td>Germany</td>\n",
       "      <td>Road Bike</td>\n",
       "      <td>None</td>\n",
       "      <td>888.0</td>\n",
       "      <td>3.0</td>\n",
       "      <td>15.0</td>\n",
       "      <td>13320.0</td>\n",
       "      <td>0.0</td>\n",
       "      <td>13320.0</td>\n",
       "      <td>8880.0</td>\n",
       "      <td>4440.0</td>\n",
       "      <td>01/06/2014</td>\n",
       "      <td>6</td>\n",
       "      <td>2014-01-06</td>\n",
       "    </tr>\n",
       "    <tr>\n",
       "      <th>4</th>\n",
       "      <td>Midmarket</td>\n",
       "      <td>Mexico</td>\n",
       "      <td>Road Bike</td>\n",
       "      <td>None</td>\n",
       "      <td>2470.0</td>\n",
       "      <td>3.0</td>\n",
       "      <td>15.0</td>\n",
       "      <td>37050.0</td>\n",
       "      <td>0.0</td>\n",
       "      <td>37050.0</td>\n",
       "      <td>24700.0</td>\n",
       "      <td>12350.0</td>\n",
       "      <td>01/06/2014</td>\n",
       "      <td>6</td>\n",
       "      <td>2014-01-06</td>\n",
       "    </tr>\n",
       "  </tbody>\n",
       "</table>\n",
       "</div>"
      ],
      "text/plain": [
       "      Segment  Country    Product Discount Band  Units Sold  \\\n",
       "0  Government   Canada  Road Bike         None       1618.5   \n",
       "1  Government  Germany  Road Bike         None       1321.0   \n",
       "2   Midmarket   France  Road Bike         None       2178.0   \n",
       "3   Midmarket  Germany  Road Bike         None        888.0   \n",
       "4   Midmarket   Mexico  Road Bike         None       2470.0   \n",
       "\n",
       "   Manufacturing Price  Sale Price  Gross Sales  Discounts    Sales     COGS  \\\n",
       "0                  3.0        20.0      32370.0        0.0  32370.0  16185.0   \n",
       "1                  3.0        20.0      26420.0        0.0  26420.0  13210.0   \n",
       "2                  3.0        15.0      32670.0        0.0  32670.0  21780.0   \n",
       "3                  3.0        15.0      13320.0        0.0  13320.0   8880.0   \n",
       "4                  3.0        15.0      37050.0        0.0  37050.0  24700.0   \n",
       "\n",
       "    Profit        Date  Month Number       Data  \n",
       "0  16185.0  01/01/2014             1 2014-01-01  \n",
       "1  13210.0  01/01/2014             1 2014-01-01  \n",
       "2  10890.0  01/06/2014             6 2014-01-06  \n",
       "3   4440.0  01/06/2014             6 2014-01-06  \n",
       "4  12350.0  01/06/2014             6 2014-01-06  "
      ]
     },
     "execution_count": 34,
     "metadata": {},
     "output_type": "execute_result"
    }
   ],
   "source": [
    "df.head ()"
   ]
  },
  {
   "cell_type": "code",
   "execution_count": 35,
   "id": "98301061",
   "metadata": {},
   "outputs": [],
   "source": [
    "import matplotlib.pyplot as plt\n",
    "import numpy as np"
   ]
  },
  {
   "cell_type": "markdown",
   "id": "3ed80845",
   "metadata": {},
   "source": [
    "## Country wise analysis"
   ]
  },
  {
   "cell_type": "code",
   "execution_count": 36,
   "id": "0ed96fb9",
   "metadata": {},
   "outputs": [
    {
     "data": {
      "text/html": [
       "<div>\n",
       "<style scoped>\n",
       "    .dataframe tbody tr th:only-of-type {\n",
       "        vertical-align: middle;\n",
       "    }\n",
       "\n",
       "    .dataframe tbody tr th {\n",
       "        vertical-align: top;\n",
       "    }\n",
       "\n",
       "    .dataframe thead th {\n",
       "        text-align: right;\n",
       "    }\n",
       "</style>\n",
       "<table border=\"1\" class=\"dataframe\">\n",
       "  <thead>\n",
       "    <tr style=\"text-align: right;\">\n",
       "      <th></th>\n",
       "      <th>Country</th>\n",
       "      <th>Sales</th>\n",
       "      <th>Profit</th>\n",
       "      <th>Units Sold</th>\n",
       "      <th>COGS</th>\n",
       "    </tr>\n",
       "  </thead>\n",
       "  <tbody>\n",
       "    <tr>\n",
       "      <th>0</th>\n",
       "      <td>Canada</td>\n",
       "      <td>24887654.89</td>\n",
       "      <td>3858206.39</td>\n",
       "      <td>247428.5</td>\n",
       "      <td>21358426.0</td>\n",
       "    </tr>\n",
       "    <tr>\n",
       "      <th>1</th>\n",
       "      <td>France</td>\n",
       "      <td>24354172.29</td>\n",
       "      <td>4032488.29</td>\n",
       "      <td>240931.0</td>\n",
       "      <td>20573151.5</td>\n",
       "    </tr>\n",
       "    <tr>\n",
       "      <th>2</th>\n",
       "      <td>Germany</td>\n",
       "      <td>23505340.82</td>\n",
       "      <td>3961381.32</td>\n",
       "      <td>201494.0</td>\n",
       "      <td>19824952.0</td>\n",
       "    </tr>\n",
       "    <tr>\n",
       "      <th>3</th>\n",
       "      <td>Mexico</td>\n",
       "      <td>20949352.11</td>\n",
       "      <td>3198923.11</td>\n",
       "      <td>203325.0</td>\n",
       "      <td>18041829.0</td>\n",
       "    </tr>\n",
       "    <tr>\n",
       "      <th>4</th>\n",
       "      <td>United States of America</td>\n",
       "      <td>25029830.18</td>\n",
       "      <td>3397345.68</td>\n",
       "      <td>232627.5</td>\n",
       "      <td>22034289.5</td>\n",
       "    </tr>\n",
       "  </tbody>\n",
       "</table>\n",
       "</div>"
      ],
      "text/plain": [
       "                    Country        Sales      Profit  Units Sold        COGS\n",
       "0                    Canada  24887654.89  3858206.39    247428.5  21358426.0\n",
       "1                    France  24354172.29  4032488.29    240931.0  20573151.5\n",
       "2                   Germany  23505340.82  3961381.32    201494.0  19824952.0\n",
       "3                    Mexico  20949352.11  3198923.11    203325.0  18041829.0\n",
       "4  United States of America  25029830.18  3397345.68    232627.5  22034289.5"
      ]
     },
     "execution_count": 36,
     "metadata": {},
     "output_type": "execute_result"
    }
   ],
   "source": [
    "group=df.groupby('Country').agg({'Sales':'sum','Profit':'sum','Units Sold':'sum','COGS':'sum'}).reset_index()\n",
    "group.head(10)"
   ]
  },
  {
   "cell_type": "code",
   "execution_count": 37,
   "id": "133f41b1",
   "metadata": {},
   "outputs": [
    {
     "data": {
      "image/png": "[encoded data removed]",
      "text/plain": [
       "<Figure size 1000x600 with 1 Axes>"
      ]
     },
     "metadata": {},
     "output_type": "display_data"
    }
   ],
   "source": [
    "bar_width = 0.3\n",
    "plt.figure(figsize=(10,6))\n",
    "# calculate the x positions for the bar\n",
    "x=np.arange(len(group['Country']))\n",
    "plt.bar(x-bar_width,group['Sales'],bar_width,label='Sales')\n",
    "\n",
    "\n",
    "plt.xticks(x,group['Country'])\n",
    "plt.legend()\n",
    "plt.show()"
   ]
  },
  {
   "cell_type": "code",
   "execution_count": 38,
   "id": "284a0693",
   "metadata": {},
   "outputs": [
    {
     "data": {
      "image/png": "[encoded data removed]",
      "text/plain": [
       "<Figure size 1000x600 with 1 Axes>"
      ]
     },
     "metadata": {},
     "output_type": "display_data"
    }
   ],
   "source": [
    "bar_width = 0.3\n",
    "plt.figure(figsize=(10,6))\n",
    "\n",
    "# calculate the x positions for the bar\n",
    "x=np.arange(len(group['Country']))\n",
    "\n",
    "plt.bar(x-bar_width,group['Sales'],bar_width,label='Sales')\n",
    "plt.bar(x,group['COGS'],bar_width,label='COGS')\n",
    "\n",
    "#plt.xlable('Country')\n",
    "#plt.ylable('Values')\n",
    "plt.xticks(x,group['Country'])\n",
    "plt.legend()\n",
    "plt.show()"
   ]
  },
  {
   "cell_type": "markdown",
   "id": "a38b3e77",
   "metadata": {},
   "source": [
    "WE can see that sales is more than the COGS(Cost of Gross Sale) it means company is in profit"
   ]
  },
  {
   "cell_type": "code",
   "execution_count": 39,
   "id": "9a67de44",
   "metadata": {},
   "outputs": [
    {
     "data": {
      "image/png": "[encoded data removed]",
      "text/plain": [
       "<Figure size 1000x600 with 1 Axes>"
      ]
     },
     "metadata": {},
     "output_type": "display_data"
    }
   ],
   "source": [
    "plt.figure(figsize=(10,6))\n",
    "plt.pie(group['Profit'],labels=group['Country'],autopct='%1.1f%%',startangle=140,explode=(0,0.2,0,.1,0),shadow = True)\n",
    "plt.title('Country wise Profit')\n",
    "plt.show()"
   ]
  },
  {
   "cell_type": "markdown",
   "id": "509a6ed0",
   "metadata": {},
   "source": [
    "## Product wise analysis"
   ]
  },
  {
   "cell_type": "code",
   "execution_count": 40,
   "id": "5cb7e62c",
   "metadata": {},
   "outputs": [
    {
     "data": {
      "text/html": [
       "<div>\n",
       "<style scoped>\n",
       "    .dataframe tbody tr th:only-of-type {\n",
       "        vertical-align: middle;\n",
       "    }\n",
       "\n",
       "    .dataframe tbody tr th {\n",
       "        vertical-align: top;\n",
       "    }\n",
       "\n",
       "    .dataframe thead th {\n",
       "        text-align: right;\n",
       "    }\n",
       "</style>\n",
       "<table border=\"1\" class=\"dataframe\">\n",
       "  <thead>\n",
       "    <tr style=\"text-align: right;\">\n",
       "      <th></th>\n",
       "      <th>Product</th>\n",
       "      <th>Units Sold</th>\n",
       "      <th>Manufacturing Price</th>\n",
       "      <th>Sale Price</th>\n",
       "      <th>Gross Sales</th>\n",
       "      <th>Profit</th>\n",
       "      <th>COGS</th>\n",
       "    </tr>\n",
       "  </thead>\n",
       "  <tbody>\n",
       "    <tr>\n",
       "      <th>0</th>\n",
       "      <td>All-Terrain Bike</td>\n",
       "      <td>168783.0</td>\n",
       "      <td>250.0</td>\n",
       "      <td>138.587156</td>\n",
       "      <td>21968533.5</td>\n",
       "      <td>3278088.02</td>\n",
       "      <td>17477313.0</td>\n",
       "    </tr>\n",
       "    <tr>\n",
       "      <th>1</th>\n",
       "      <td>Mountain Bike</td>\n",
       "      <td>154198.0</td>\n",
       "      <td>5.0</td>\n",
       "      <td>117.096774</td>\n",
       "      <td>16549834.5</td>\n",
       "      <td>2227807.38</td>\n",
       "      <td>13276047.0</td>\n",
       "    </tr>\n",
       "    <tr>\n",
       "      <th>2</th>\n",
       "      <td>Road Bike</td>\n",
       "      <td>146846.0</td>\n",
       "      <td>3.0</td>\n",
       "      <td>111.774194</td>\n",
       "      <td>14937520.5</td>\n",
       "      <td>2289024.89</td>\n",
       "      <td>11988503.0</td>\n",
       "    </tr>\n",
       "    <tr>\n",
       "      <th>3</th>\n",
       "      <td>Speed Bike</td>\n",
       "      <td>162424.5</td>\n",
       "      <td>120.0</td>\n",
       "      <td>115.238532</td>\n",
       "      <td>19826768.5</td>\n",
       "      <td>2556904.97</td>\n",
       "      <td>15944067.0</td>\n",
       "    </tr>\n",
       "    <tr>\n",
       "      <th>4</th>\n",
       "      <td>Touring Bike</td>\n",
       "      <td>338239.5</td>\n",
       "      <td>10.0</td>\n",
       "      <td>108.178218</td>\n",
       "      <td>35611662.0</td>\n",
       "      <td>5038535.46</td>\n",
       "      <td>28213706.0</td>\n",
       "    </tr>\n",
       "    <tr>\n",
       "      <th>5</th>\n",
       "      <td>Yellow Bike</td>\n",
       "      <td>155315.0</td>\n",
       "      <td>260.0</td>\n",
       "      <td>128.680851</td>\n",
       "      <td>19037279.5</td>\n",
       "      <td>3057984.07</td>\n",
       "      <td>14933012.0</td>\n",
       "    </tr>\n",
       "  </tbody>\n",
       "</table>\n",
       "</div>"
      ],
      "text/plain": [
       "            Product  Units Sold  Manufacturing Price  Sale Price  Gross Sales  \\\n",
       "0  All-Terrain Bike    168783.0                250.0  138.587156   21968533.5   \n",
       "1     Mountain Bike    154198.0                  5.0  117.096774   16549834.5   \n",
       "2         Road Bike    146846.0                  3.0  111.774194   14937520.5   \n",
       "3        Speed Bike    162424.5                120.0  115.238532   19826768.5   \n",
       "4      Touring Bike    338239.5                 10.0  108.178218   35611662.0   \n",
       "5       Yellow Bike    155315.0                260.0  128.680851   19037279.5   \n",
       "\n",
       "       Profit        COGS  \n",
       "0  3278088.02  17477313.0  \n",
       "1  2227807.38  13276047.0  \n",
       "2  2289024.89  11988503.0  \n",
       "3  2556904.97  15944067.0  \n",
       "4  5038535.46  28213706.0  \n",
       "5  3057984.07  14933012.0  "
      ]
     },
     "execution_count": 40,
     "metadata": {},
     "output_type": "execute_result"
    }
   ],
   "source": [
    "group_product = df.groupby('Product').agg({'Units Sold':'sum','Manufacturing Price':'mean','Sale Price':'mean','Gross Sales':'sum','Profit':'sum','COGS':'sum'}).reset_index()\n",
    "group_product"
   ]
  },
  {
   "cell_type": "code",
   "execution_count": 41,
   "id": "021fdf6d",
   "metadata": {},
   "outputs": [
    {
     "name": "stdout",
     "output_type": "stream",
     "text": [
      "Gross_Margin 0   -111.412844\n",
      "1    112.096774\n",
      "2    108.774194\n",
      "3     -4.761468\n",
      "4     98.178218\n",
      "5   -131.319149\n",
      "Name: Gross_Margin, dtype: float64\n"
     ]
    },
    {
     "data": {
      "text/html": [
       "<div>\n",
       "<style scoped>\n",
       "    .dataframe tbody tr th:only-of-type {\n",
       "        vertical-align: middle;\n",
       "    }\n",
       "\n",
       "    .dataframe tbody tr th {\n",
       "        vertical-align: top;\n",
       "    }\n",
       "\n",
       "    .dataframe thead th {\n",
       "        text-align: right;\n",
       "    }\n",
       "</style>\n",
       "<table border=\"1\" class=\"dataframe\">\n",
       "  <thead>\n",
       "    <tr style=\"text-align: right;\">\n",
       "      <th></th>\n",
       "      <th>Product</th>\n",
       "      <th>Units Sold</th>\n",
       "      <th>Manufacturing Price</th>\n",
       "      <th>Sale Price</th>\n",
       "      <th>Gross Sales</th>\n",
       "      <th>Profit</th>\n",
       "      <th>COGS</th>\n",
       "      <th>Gross_Margin</th>\n",
       "    </tr>\n",
       "  </thead>\n",
       "  <tbody>\n",
       "    <tr>\n",
       "      <th>0</th>\n",
       "      <td>All-Terrain Bike</td>\n",
       "      <td>168783.0</td>\n",
       "      <td>250.0</td>\n",
       "      <td>138.587156</td>\n",
       "      <td>21968533.5</td>\n",
       "      <td>3278088.02</td>\n",
       "      <td>17477313.0</td>\n",
       "      <td>-111.412844</td>\n",
       "    </tr>\n",
       "    <tr>\n",
       "      <th>1</th>\n",
       "      <td>Mountain Bike</td>\n",
       "      <td>154198.0</td>\n",
       "      <td>5.0</td>\n",
       "      <td>117.096774</td>\n",
       "      <td>16549834.5</td>\n",
       "      <td>2227807.38</td>\n",
       "      <td>13276047.0</td>\n",
       "      <td>112.096774</td>\n",
       "    </tr>\n",
       "    <tr>\n",
       "      <th>2</th>\n",
       "      <td>Road Bike</td>\n",
       "      <td>146846.0</td>\n",
       "      <td>3.0</td>\n",
       "      <td>111.774194</td>\n",
       "      <td>14937520.5</td>\n",
       "      <td>2289024.89</td>\n",
       "      <td>11988503.0</td>\n",
       "      <td>108.774194</td>\n",
       "    </tr>\n",
       "    <tr>\n",
       "      <th>3</th>\n",
       "      <td>Speed Bike</td>\n",
       "      <td>162424.5</td>\n",
       "      <td>120.0</td>\n",
       "      <td>115.238532</td>\n",
       "      <td>19826768.5</td>\n",
       "      <td>2556904.97</td>\n",
       "      <td>15944067.0</td>\n",
       "      <td>-4.761468</td>\n",
       "    </tr>\n",
       "    <tr>\n",
       "      <th>4</th>\n",
       "      <td>Touring Bike</td>\n",
       "      <td>338239.5</td>\n",
       "      <td>10.0</td>\n",
       "      <td>108.178218</td>\n",
       "      <td>35611662.0</td>\n",
       "      <td>5038535.46</td>\n",
       "      <td>28213706.0</td>\n",
       "      <td>98.178218</td>\n",
       "    </tr>\n",
       "    <tr>\n",
       "      <th>5</th>\n",
       "      <td>Yellow Bike</td>\n",
       "      <td>155315.0</td>\n",
       "      <td>260.0</td>\n",
       "      <td>128.680851</td>\n",
       "      <td>19037279.5</td>\n",
       "      <td>3057984.07</td>\n",
       "      <td>14933012.0</td>\n",
       "      <td>-131.319149</td>\n",
       "    </tr>\n",
       "  </tbody>\n",
       "</table>\n",
       "</div>"
      ],
      "text/plain": [
       "            Product  Units Sold  Manufacturing Price  Sale Price  Gross Sales  \\\n",
       "0  All-Terrain Bike    168783.0                250.0  138.587156   21968533.5   \n",
       "1     Mountain Bike    154198.0                  5.0  117.096774   16549834.5   \n",
       "2         Road Bike    146846.0                  3.0  111.774194   14937520.5   \n",
       "3        Speed Bike    162424.5                120.0  115.238532   19826768.5   \n",
       "4      Touring Bike    338239.5                 10.0  108.178218   35611662.0   \n",
       "5       Yellow Bike    155315.0                260.0  128.680851   19037279.5   \n",
       "\n",
       "       Profit        COGS  Gross_Margin  \n",
       "0  3278088.02  17477313.0   -111.412844  \n",
       "1  2227807.38  13276047.0    112.096774  \n",
       "2  2289024.89  11988503.0    108.774194  \n",
       "3  2556904.97  15944067.0     -4.761468  \n",
       "4  5038535.46  28213706.0     98.178218  \n",
       "5  3057984.07  14933012.0   -131.319149  "
      ]
     },
     "execution_count": 41,
     "metadata": {},
     "output_type": "execute_result"
    }
   ],
   "source": [
    "# we can create one more column which contain margin that is selling price minus manufacturing price\n",
    "group_product['Gross_Margin']=group_product['Sale Price']-group_product['Manufacturing Price']\n",
    "print(f\"Gross_Margin {group_product['Gross_Margin']}\")\n",
    "group_product"
   ]
  },
  {
   "cell_type": "code",
   "execution_count": 42,
   "id": "b8cf2ee5",
   "metadata": {},
   "outputs": [
    {
     "data": {
      "image/png": "[encoded data removed]",
      "text/plain": [
       "<Figure size 1000x600 with 1 Axes>"
      ]
     },
     "metadata": {},
     "output_type": "display_data"
    }
   ],
   "source": [
    "plt.figure(figsize=(10,6))\n",
    "\n",
    "Categories = group_product['Product']\n",
    "Margin_values = group_product['Gross_Margin']\n",
    "#  Create abar chart\n",
    "plt.bar(Categories,Margin_values,label=\"Gross_Margin\")\n",
    "\n",
    "plt.xticks(group_product['Product'])\n",
    "plt.show()"
   ]
  },
  {
   "cell_type": "markdown",
   "id": "526d5aef",
   "metadata": {},
   "source": [
    "From above figure we can see that Product 'All-Terrain Bike' and 'Yellw Bike' has nagetive gross margin and product 'Speed Bike' has very low margin"
   ]
  },
  {
   "cell_type": "code",
   "execution_count": 43,
   "id": "3edb6f97",
   "metadata": {},
   "outputs": [
    {
     "data": {
      "image/png": "[encoded data removed]",
      "text/plain": [
       "<Figure size 640x480 with 1 Axes>"
      ]
     },
     "metadata": {},
     "output_type": "display_data"
    }
   ],
   "source": [
    "plt.pie(group_product['Profit'],labels=group_product['Product'],autopct=\"%1.1f%%\",startangle=140,explode=(0,.2,0,0,.2,0),shadow=True)\n",
    "plt.title('Product wise Profit')\n",
    "plt.show()"
   ]
  },
  {
   "cell_type": "markdown",
   "id": "466f20eb",
   "metadata": {},
   "source": [
    "From here we can see that 'Touring Bike' has highest profit and 'Mountain bike' have low profit"
   ]
  },
  {
   "cell_type": "code",
   "execution_count": 44,
   "id": "5ef7e0c3",
   "metadata": {},
   "outputs": [
    {
     "data": {
      "image/png": "[encoded data removed]",
      "text/plain": [
       "<Figure size 1000x600 with 1 Axes>"
      ]
     },
     "metadata": {},
     "output_type": "display_data"
    }
   ],
   "source": [
    "bar_width = 0.3\n",
    "plt.figure(figsize=(10,6))\n",
    "x=np.arange(len(group_product['Product']))\n",
    "\n",
    "plt.bar(x-bar_width,group_product['Gross Sales'],bar_width,label = 'Gross Sales')\n",
    "plt.bar(x,group_product['COGS'],bar_width,label='COGS')\n",
    "\n",
    "#plt.xlabel('name if your column')\n",
    "#plt.ylabel('name if your column')\n",
    "\n",
    "plt.xticks(x,group_product['Product'])\n",
    "plt.legend ()\n",
    "plt.show ()"
   ]
  },
  {
   "cell_type": "markdown",
   "id": "898fdf81",
   "metadata": {},
   "source": [
    "Sales of 'Touring Bike' is much more than other Product and 'Road Bike' has the low sales"
   ]
  },
  {
   "cell_type": "code",
   "execution_count": 45,
   "id": "fdb46ee5",
   "metadata": {},
   "outputs": [
    {
     "data": {
      "image/png": "[encoded data removed]",
      "text/plain": [
       "<Figure size 1000x600 with 1 Axes>"
      ]
     },
     "metadata": {},
     "output_type": "display_data"
    }
   ],
   "source": [
    "bar_width = 0.3\n",
    "plt.figure(figsize=(10,6))\n",
    "# Calculate the x Positions for the bars\n",
    "\n",
    "x=np.arange(len(group_product['Product']))\n",
    "plt.bar(x-bar_width,group_product['Units Sold'],bar_width,label='Units Sold')\n",
    "\n",
    "plt.xticks(x,group_product['Product'])\n",
    "plt.legend ()\n",
    "plt.show ()"
   ]
  },
  {
   "cell_type": "markdown",
   "id": "029a629c",
   "metadata": {},
   "source": [
    "From here we can clearly see that 'Touring Bike' is the Product which sells maximum"
   ]
  },
  {
   "cell_type": "markdown",
   "id": "7b7c6ceb",
   "metadata": {},
   "source": [
    "# Sector wise analysis"
   ]
  },
  {
   "cell_type": "code",
   "execution_count": 46,
   "id": "7871555a",
   "metadata": {},
   "outputs": [
    {
     "data": {
      "text/html": [
       "<div>\n",
       "<style scoped>\n",
       "    .dataframe tbody tr th:only-of-type {\n",
       "        vertical-align: middle;\n",
       "    }\n",
       "\n",
       "    .dataframe tbody tr th {\n",
       "        vertical-align: top;\n",
       "    }\n",
       "\n",
       "    .dataframe thead th {\n",
       "        text-align: right;\n",
       "    }\n",
       "</style>\n",
       "<table border=\"1\" class=\"dataframe\">\n",
       "  <thead>\n",
       "    <tr style=\"text-align: right;\">\n",
       "      <th></th>\n",
       "      <th>Segment</th>\n",
       "      <th>Units Sold</th>\n",
       "      <th>Gross Sales</th>\n",
       "      <th>Profit</th>\n",
       "      <th>COGS</th>\n",
       "    </tr>\n",
       "  </thead>\n",
       "  <tbody>\n",
       "    <tr>\n",
       "      <th>0</th>\n",
       "      <td>Channel Partners</td>\n",
       "      <td>161263.5</td>\n",
       "      <td>1935162.0</td>\n",
       "      <td>1316803.14</td>\n",
       "      <td>483790.5</td>\n",
       "    </tr>\n",
       "    <tr>\n",
       "      <th>1</th>\n",
       "      <td>Enterprise</td>\n",
       "      <td>168552.0</td>\n",
       "      <td>21069000.0</td>\n",
       "      <td>940096.88</td>\n",
       "      <td>20226240.0</td>\n",
       "    </tr>\n",
       "    <tr>\n",
       "      <th>2</th>\n",
       "      <td>Government</td>\n",
       "      <td>470673.5</td>\n",
       "      <td>56403066.5</td>\n",
       "      <td>11388173.18</td>\n",
       "      <td>41116087.5</td>\n",
       "    </tr>\n",
       "    <tr>\n",
       "      <th>3</th>\n",
       "      <td>Midmarket</td>\n",
       "      <td>172178.0</td>\n",
       "      <td>2582670.0</td>\n",
       "      <td>660103.09</td>\n",
       "      <td>1721780.0</td>\n",
       "    </tr>\n",
       "    <tr>\n",
       "      <th>4</th>\n",
       "      <td>Small Business</td>\n",
       "      <td>153139.0</td>\n",
       "      <td>45941700.0</td>\n",
       "      <td>4143168.50</td>\n",
       "      <td>38284750.0</td>\n",
       "    </tr>\n",
       "  </tbody>\n",
       "</table>\n",
       "</div>"
      ],
      "text/plain": [
       "            Segment  Units Sold  Gross Sales       Profit        COGS\n",
       "0  Channel Partners    161263.5    1935162.0   1316803.14    483790.5\n",
       "1        Enterprise    168552.0   21069000.0    940096.88  20226240.0\n",
       "2        Government    470673.5   56403066.5  11388173.18  41116087.5\n",
       "3         Midmarket    172178.0    2582670.0    660103.09   1721780.0\n",
       "4    Small Business    153139.0   45941700.0   4143168.50  38284750.0"
      ]
     },
     "execution_count": 46,
     "metadata": {},
     "output_type": "execute_result"
    }
   ],
   "source": [
    "group_segment = df.groupby('Segment').agg({'Units Sold':'sum','Gross Sales':'sum','Profit':'sum','COGS':'sum'}).reset_index ()\n",
    "group_segment"
   ]
  },
  {
   "cell_type": "code",
   "execution_count": 47,
   "id": "1e4fba72",
   "metadata": {},
   "outputs": [
    {
     "data": {
      "image/png": "[encoded data removed]",
      "text/plain": [
       "<Figure size 1000x600 with 1 Axes>"
      ]
     },
     "metadata": {},
     "output_type": "display_data"
    }
   ],
   "source": [
    "plt.figure(figsize=(10,6))\n",
    "plt.pie(group_segment['Profit'], labels=group_segment['Segment'], autopct=\"%1.1f%%\",startangle=140,explode=(0,0,0.1,0,0),shadow=True)\n",
    "plt.title(\"Segment wise Profit\")\n",
    "plt.show ()"
   ]
  },
  {
   "cell_type": "markdown",
   "id": "d8634b61",
   "metadata": {},
   "source": [
    "Goverment segment gives most profit and Midmarket gives least profit"
   ]
  },
  {
   "cell_type": "code",
   "execution_count": 48,
   "id": "a3a4914b",
   "metadata": {},
   "outputs": [
    {
     "data": {
      "image/png": "[encoded data removed]",
      "text/plain": [
       "<Figure size 1000x600 with 1 Axes>"
      ]
     },
     "metadata": {},
     "output_type": "display_data"
    }
   ],
   "source": [
    "bar_width = 0.3\n",
    "plt.figure(figsize=(10,6))\n",
    "x = np.arange(len(group_segment['Segment']))\n",
    "\n",
    "plt.bar(x-bar_width,group_segment['Gross Sales'],bar_width,label='Sales')\n",
    "plt.bar(x,group_segment['COGS'],bar_width,label='COGS')\n",
    "\n",
    "plt.xticks(x,group_segment['Segment'])\n",
    "plt.legend ()\n",
    "plt.show()"
   ]
  },
  {
   "cell_type": "code",
   "execution_count": 49,
   "id": "15f2dc7b",
   "metadata": {},
   "outputs": [
    {
     "data": {
      "image/png": "[encoded data removed]",
      "text/plain": [
       "<Figure size 1000x600 with 1 Axes>"
      ]
     },
     "metadata": {},
     "output_type": "display_data"
    }
   ],
   "source": [
    "bar_width = 0.3\n",
    "plt.figure(figsize=(10,6))\n",
    "x=np.arange(len(group_segment['Segment']))\n",
    "\n",
    "plt.bar(x-bar_width,group_segment['Units Sold'],bar_width,label='Units Sold')\n",
    "\n",
    "plt.xticks(x,group_segment['Segment'])\n",
    "plt.legend ()\n",
    "plt.show()"
   ]
  },
  {
   "cell_type": "markdown",
   "id": "d44d0c2e",
   "metadata": {},
   "source": [
    "mre units sold in goverment sector then mid markent and least unitsare sold in small business"
   ]
  },
  {
   "cell_type": "markdown",
   "id": "a2b03424",
   "metadata": {},
   "source": [
    "# Analysis by time and date"
   ]
  },
  {
   "cell_type": "code",
   "execution_count": 50,
   "id": "42987453",
   "metadata": {},
   "outputs": [
    {
     "data": {
      "text/plain": [
       "Segment                        object\n",
       "Country                        object\n",
       "Product                        object\n",
       "Discount Band                  object\n",
       "Units Sold                    float64\n",
       "Manufacturing Price           float64\n",
       "Sale Price                    float64\n",
       "Gross Sales                   float64\n",
       "Discounts                     float64\n",
       "Sales                         float64\n",
       "COGS                          float64\n",
       "Profit                        float64\n",
       "Date                           object\n",
       "Month Number                    int64\n",
       "Data                   datetime64[ns]\n",
       "dtype: object"
      ]
     },
     "execution_count": 50,
     "metadata": {},
     "output_type": "execute_result"
    }
   ],
   "source": [
    "df.dtypes"
   ]
  },
  {
   "cell_type": "code",
   "execution_count": 51,
   "id": "98f60fc4",
   "metadata": {},
   "outputs": [],
   "source": [
    "#df['Date'] = pd.to_datetime(df['Date'])\n",
    "#df.set_index('Date', inplace=True)"
   ]
  },
  {
   "cell_type": "code",
   "execution_count": 56,
   "id": "df2b8542",
   "metadata": {},
   "outputs": [
    {
     "data": {
      "image/png": "[encoded data removed]",
      "text/plain": [
       "<Figure size 1600x500 with 2 Axes>"
      ]
     },
     "metadata": {},
     "output_type": "display_data"
    }
   ],
   "source": [
    "# df.set_index('Date',inplace = True)\n",
    "Monthly_sales = df['Sales'].resample('M').sum()\n",
    "quarterly_sales = df['Sales'].resample('Q').sum()\n",
    "\n",
    "# create line graphs for monthly and quarterly sales\n",
    "plt.figure(figsize=(16,5))\n",
    "\n",
    "# monthly line gragh\n",
    "plt.subplot(1, 2, 1)\n",
    "plt.plot(Monthly_sales,marker='o')\n",
    "plt.title('Monthly sales')\n",
    "\n",
    "# quarterly line graph\n",
    "plt.subplot(1, 2, 2)\n",
    "plt.plot(quarterly_sales,marker ='o')\n",
    "plt.title('Quarterly Sales')\n",
    "\n",
    "# show the plots\n",
    "plt.tight_layout()\n",
    "plt.show()"
   ]
  },
  {
   "cell_type": "code",
   "execution_count": 58,
   "id": "e4428153",
   "metadata": {},
   "outputs": [
    {
     "data": {
      "image/png": "[encoded data removed]",
      "text/plain": [
       "<Figure size 1400x500 with 2 Axes>"
      ]
     },
     "metadata": {},
     "output_type": "display_data"
    }
   ],
   "source": [
    "# df.set_index('Date',inplace = True)\n",
    "Monthly_Profit = df['Profit'].resample('M').sum()\n",
    "quarterly_Profit = df['Profit'].resample('Q').sum()\n",
    "\n",
    "# create line graphs for monthly and quarterly sales\n",
    "plt.figure(figsize=(14,5))\n",
    "\n",
    "# monthly line gragh\n",
    "plt.subplot(1, 2, 1)\n",
    "plt.plot(Monthly_Profit,marker='o')\n",
    "plt.title('Monthly Profit')\n",
    "\n",
    "# quarterly line graph\n",
    "plt.subplot(1, 2, 2)\n",
    "plt.plot(quarterly_sales,marker ='o')\n",
    "plt.title('Quarterly Profit')\n",
    "\n",
    "# show the plots\n",
    "plt.tight_layout()\n",
    "plt.show()"
   ]
  },
  {
   "cell_type": "code",
   "execution_count": 60,
   "id": "ef5d7528",
   "metadata": {},
   "outputs": [],
   "source": [
    "yearly_profit = df['Profit'].resample('Y').sum()"
   ]
  },
  {
   "cell_type": "code",
   "execution_count": 62,
   "id": "9a38bdd9",
   "metadata": {},
   "outputs": [
    {
     "data": {
      "text/html": [
       "<div>\n",
       "<style scoped>\n",
       "    .dataframe tbody tr th:only-of-type {\n",
       "        vertical-align: middle;\n",
       "    }\n",
       "\n",
       "    .dataframe tbody tr th {\n",
       "        vertical-align: top;\n",
       "    }\n",
       "\n",
       "    .dataframe thead th {\n",
       "        text-align: right;\n",
       "    }\n",
       "</style>\n",
       "<table border=\"1\" class=\"dataframe\">\n",
       "  <thead>\n",
       "    <tr style=\"text-align: right;\">\n",
       "      <th></th>\n",
       "      <th>index</th>\n",
       "      <th>Date</th>\n",
       "      <th>Profit</th>\n",
       "    </tr>\n",
       "  </thead>\n",
       "  <tbody>\n",
       "    <tr>\n",
       "      <th>0</th>\n",
       "      <td>0</td>\n",
       "      <td>2013-12-31</td>\n",
       "      <td>4323139.51</td>\n",
       "    </tr>\n",
       "    <tr>\n",
       "      <th>1</th>\n",
       "      <td>1</td>\n",
       "      <td>2014-12-31</td>\n",
       "      <td>14125205.28</td>\n",
       "    </tr>\n",
       "  </tbody>\n",
       "</table>\n",
       "</div>"
      ],
      "text/plain": [
       "   index       Date       Profit\n",
       "0      0 2013-12-31   4323139.51\n",
       "1      1 2014-12-31  14125205.28"
      ]
     },
     "execution_count": 62,
     "metadata": {},
     "output_type": "execute_result"
    }
   ],
   "source": [
    "yearly_profit = yearly_profit.reset_index()\n",
    "yearly_profit"
   ]
  },
  {
   "cell_type": "code",
   "execution_count": 64,
   "id": "ec1acf60",
   "metadata": {},
   "outputs": [
    {
     "data": {
      "text/plain": [
       "<BarContainer object of 2 artists>"
      ]
     },
     "execution_count": 64,
     "metadata": {},
     "output_type": "execute_result"
    },
    {
     "data": {
      "image/png": "[encoded data removed]",
      "text/plain": [
       "<Figure size 1000x500 with 1 Axes>"
      ]
     },
     "metadata": {},
     "output_type": "display_data"
    }
   ],
   "source": [
    "yearly_profit['Date'] = pd.to_datetime(yearly_profit['Date'])\n",
    "\n",
    "plt.figure(figsize = (10,5))\n",
    "plt.bar(yearly_profit['Date'].dt.year, yearly_profit['Profit'],color='Blue')"
   ]
  },
  {
   "cell_type": "code",
   "execution_count": null,
   "id": "9cd56ce3",
   "metadata": {},
   "outputs": [],
   "source": []
  }
 ],
 "metadata": {
  "kernelspec": {
   "display_name": "Python 3 (ipykernel)",
   "language": "python",
   "name": "python3"
  },
  "language_info": {
   "codemirror_mode": {
    "name": "ipython",
    "version": 3
   },
   "file_extension": ".py",
   "mimetype": "text/x-python",
   "name": "python",
   "nbconvert_exporter": "python",
   "pygments_lexer": "ipython3",
   "version": "3.11.5"
  }
 },
 "nbformat": 4,
 "nbformat_minor": 5
}
